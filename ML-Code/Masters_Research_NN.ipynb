{
 "cells": [
  {
   "cell_type": "code",
   "execution_count": 1,
   "id": "65158e8e-cd99-41b9-b76d-fd185ecbb1ac",
   "metadata": {},
   "outputs": [
    {
     "name": "stderr",
     "output_type": "stream",
     "text": [
      "2022-03-17 16:05:25.861764: I tensorflow/stream_executor/platform/default/dso_loader.cc:49] Successfully opened dynamic library libcudart.so.10.1\n"
     ]
    }
   ],
   "source": [
    "import pandas as pd\n",
    "import numpy as np\n",
    "import seaborn as sns\n",
    "from sklearn import preprocessing\n",
    "from sklearn.model_selection import train_test_split\n",
    "from sklearn.model_selection import cross_val_score\n",
    "from sklearn.ensemble import RandomForestClassifier\n",
    "from sklearn.ensemble import GradientBoostingClassifier\n",
    "from sklearn.linear_model import LogisticRegression\n",
    "from sklearn.linear_model import SGDClassifier\n",
    "from sklearn.svm import SVC\n",
    "from sklearn.metrics import accuracy_score,confusion_matrix, precision_score, recall_score, f1_score, cohen_kappa_score\n",
    "import tensorflow as tf\n",
    "from tensorflow import keras\n",
    "from datetime import datetime\n",
    "from tensorflow.keras.callbacks import EarlyStopping\n",
    "import matplotlib.pyplot as plt\n",
    "import shap\n",
    "from pickle import dump\n",
    "from pickle import load\n",
    "from sklearn.preprocessing import OneHotEncoder\n",
    "import keras_tuner as kt"
   ]
  },
  {
   "cell_type": "code",
   "execution_count": 2,
   "id": "bca13911-c1c4-4f36-9106-9d2b1d62f159",
   "metadata": {},
   "outputs": [
    {
     "data": {
      "text/plain": [
       "True"
      ]
     },
     "execution_count": 2,
     "metadata": {},
     "output_type": "execute_result"
    }
   ],
   "source": [
    "tf.__version__\n",
    "tf.test.is_built_with_cuda()"
   ]
  },
  {
   "cell_type": "code",
   "execution_count": 3,
   "id": "1cc6867b-9613-4dd4-b7f5-dea970ce0a30",
   "metadata": {},
   "outputs": [],
   "source": [
    "X_train = pd.read_csv('X_train.csv')\n",
    "X_val = pd.read_csv('X_val.csv')\n",
    "y_train = pd.read_csv('y_train.csv')\n",
    "y_val = pd.read_csv('y_val.csv')"
   ]
  },
  {
   "cell_type": "code",
   "execution_count": 4,
   "id": "4c59072c-02ac-44c9-8f08-322b32b83483",
   "metadata": {},
   "outputs": [
    {
     "name": "stderr",
     "output_type": "stream",
     "text": [
      "2022-03-17 16:05:27.988783: I tensorflow/compiler/jit/xla_cpu_device.cc:41] Not creating XLA devices, tf_xla_enable_xla_devices not set\n",
      "2022-03-17 16:05:27.989380: I tensorflow/stream_executor/platform/default/dso_loader.cc:49] Successfully opened dynamic library libcuda.so.1\n",
      "2022-03-17 16:05:27.994540: I tensorflow/stream_executor/cuda/cuda_gpu_executor.cc:941] successful NUMA node read from SysFS had negative value (-1), but there must be at least one NUMA node, so returning NUMA node zero\n",
      "2022-03-17 16:05:27.994840: I tensorflow/core/common_runtime/gpu/gpu_device.cc:1720] Found device 0 with properties: \n",
      "pciBusID: 0000:01:00.0 name: NVIDIA GeForce RTX 2080 computeCapability: 7.5\n",
      "coreClock: 1.86GHz coreCount: 46 deviceMemorySize: 7.79GiB deviceMemoryBandwidth: 417.23GiB/s\n",
      "2022-03-17 16:05:27.994866: I tensorflow/stream_executor/platform/default/dso_loader.cc:49] Successfully opened dynamic library libcudart.so.10.1\n",
      "2022-03-17 16:05:27.996015: I tensorflow/stream_executor/platform/default/dso_loader.cc:49] Successfully opened dynamic library libcublas.so.10\n",
      "2022-03-17 16:05:27.996058: I tensorflow/stream_executor/platform/default/dso_loader.cc:49] Successfully opened dynamic library libcublasLt.so.10\n",
      "2022-03-17 16:05:27.997031: I tensorflow/stream_executor/platform/default/dso_loader.cc:49] Successfully opened dynamic library libcufft.so.10\n",
      "2022-03-17 16:05:27.997227: I tensorflow/stream_executor/platform/default/dso_loader.cc:49] Successfully opened dynamic library libcurand.so.10\n",
      "2022-03-17 16:05:27.998446: I tensorflow/stream_executor/platform/default/dso_loader.cc:49] Successfully opened dynamic library libcusolver.so.10\n",
      "2022-03-17 16:05:27.998930: I tensorflow/stream_executor/platform/default/dso_loader.cc:49] Successfully opened dynamic library libcusparse.so.10\n",
      "2022-03-17 16:05:28.001223: I tensorflow/stream_executor/platform/default/dso_loader.cc:49] Successfully opened dynamic library libcudnn.so.7\n",
      "2022-03-17 16:05:28.001333: I tensorflow/stream_executor/cuda/cuda_gpu_executor.cc:941] successful NUMA node read from SysFS had negative value (-1), but there must be at least one NUMA node, so returning NUMA node zero\n",
      "2022-03-17 16:05:28.001665: I tensorflow/stream_executor/cuda/cuda_gpu_executor.cc:941] successful NUMA node read from SysFS had negative value (-1), but there must be at least one NUMA node, so returning NUMA node zero\n",
      "2022-03-17 16:05:28.001901: I tensorflow/core/common_runtime/gpu/gpu_device.cc:1862] Adding visible gpu devices: 0\n",
      "2022-03-17 16:05:28.002136: I tensorflow/core/platform/cpu_feature_guard.cc:142] This TensorFlow binary is optimized with oneAPI Deep Neural Network Library (oneDNN) to use the following CPU instructions in performance-critical operations:  SSE4.1 SSE4.2 AVX AVX2 FMA\n",
      "To enable them in other operations, rebuild TensorFlow with the appropriate compiler flags.\n",
      "2022-03-17 16:05:28.030804: I tensorflow/stream_executor/cuda/cuda_gpu_executor.cc:941] successful NUMA node read from SysFS had negative value (-1), but there must be at least one NUMA node, so returning NUMA node zero\n",
      "2022-03-17 16:05:28.031070: I tensorflow/core/common_runtime/gpu/gpu_device.cc:1720] Found device 0 with properties: \n",
      "pciBusID: 0000:01:00.0 name: NVIDIA GeForce RTX 2080 computeCapability: 7.5\n",
      "coreClock: 1.86GHz coreCount: 46 deviceMemorySize: 7.79GiB deviceMemoryBandwidth: 417.23GiB/s\n",
      "2022-03-17 16:05:28.031113: I tensorflow/stream_executor/platform/default/dso_loader.cc:49] Successfully opened dynamic library libcudart.so.10.1\n",
      "2022-03-17 16:05:28.031133: I tensorflow/stream_executor/platform/default/dso_loader.cc:49] Successfully opened dynamic library libcublas.so.10\n",
      "2022-03-17 16:05:28.031147: I tensorflow/stream_executor/platform/default/dso_loader.cc:49] Successfully opened dynamic library libcublasLt.so.10\n",
      "2022-03-17 16:05:28.031160: I tensorflow/stream_executor/platform/default/dso_loader.cc:49] Successfully opened dynamic library libcufft.so.10\n",
      "2022-03-17 16:05:28.031173: I tensorflow/stream_executor/platform/default/dso_loader.cc:49] Successfully opened dynamic library libcurand.so.10\n",
      "2022-03-17 16:05:28.031186: I tensorflow/stream_executor/platform/default/dso_loader.cc:49] Successfully opened dynamic library libcusolver.so.10\n",
      "2022-03-17 16:05:28.031200: I tensorflow/stream_executor/platform/default/dso_loader.cc:49] Successfully opened dynamic library libcusparse.so.10\n",
      "2022-03-17 16:05:28.031213: I tensorflow/stream_executor/platform/default/dso_loader.cc:49] Successfully opened dynamic library libcudnn.so.7\n",
      "2022-03-17 16:05:28.031269: I tensorflow/stream_executor/cuda/cuda_gpu_executor.cc:941] successful NUMA node read from SysFS had negative value (-1), but there must be at least one NUMA node, so returning NUMA node zero\n",
      "2022-03-17 16:05:28.031533: I tensorflow/stream_executor/cuda/cuda_gpu_executor.cc:941] successful NUMA node read from SysFS had negative value (-1), but there must be at least one NUMA node, so returning NUMA node zero\n",
      "2022-03-17 16:05:28.031756: I tensorflow/core/common_runtime/gpu/gpu_device.cc:1862] Adding visible gpu devices: 0\n",
      "2022-03-17 16:05:28.031784: I tensorflow/stream_executor/platform/default/dso_loader.cc:49] Successfully opened dynamic library libcudart.so.10.1\n",
      "2022-03-17 16:05:28.393532: I tensorflow/core/common_runtime/gpu/gpu_device.cc:1261] Device interconnect StreamExecutor with strength 1 edge matrix:\n",
      "2022-03-17 16:05:28.393548: I tensorflow/core/common_runtime/gpu/gpu_device.cc:1267]      0 \n",
      "2022-03-17 16:05:28.393552: I tensorflow/core/common_runtime/gpu/gpu_device.cc:1280] 0:   N \n",
      "2022-03-17 16:05:28.393717: I tensorflow/stream_executor/cuda/cuda_gpu_executor.cc:941] successful NUMA node read from SysFS had negative value (-1), but there must be at least one NUMA node, so returning NUMA node zero\n",
      "2022-03-17 16:05:28.394012: I tensorflow/stream_executor/cuda/cuda_gpu_executor.cc:941] successful NUMA node read from SysFS had negative value (-1), but there must be at least one NUMA node, so returning NUMA node zero\n",
      "2022-03-17 16:05:28.394320: I tensorflow/stream_executor/cuda/cuda_gpu_executor.cc:941] successful NUMA node read from SysFS had negative value (-1), but there must be at least one NUMA node, so returning NUMA node zero\n",
      "2022-03-17 16:05:28.394538: I tensorflow/core/common_runtime/gpu/gpu_device.cc:1406] Created TensorFlow device (/job:localhost/replica:0/task:0/device:GPU:0 with 5731 MB memory) -> physical GPU (device: 0, name: NVIDIA GeForce RTX 2080, pci bus id: 0000:01:00.0, compute capability: 7.5)\n",
      "2022-03-17 16:05:28.394722: I tensorflow/compiler/jit/xla_gpu_device.cc:99] Not creating XLA devices, tf_xla_enable_xla_devices not set\n"
     ]
    }
   ],
   "source": [
    "# Import `Sequential` from `keras.models`\n",
    "from tensorflow.keras.models import Sequential\n",
    "# Import `Dense` from `keras.layers`\n",
    "from tensorflow.keras.layers import Dense\n",
    "\n",
    "# Initialize the constructor\n",
    "model = Sequential()\n",
    "\n",
    "# Add an input layer \n",
    "model.add(Dense(16, activation='relu', input_shape=(X_train.shape[1],)))\n",
    "\n",
    "# Add one hidden layer \n",
    "model.add(Dense(16, activation='relu',))\n",
    "\n",
    "# Add an output layer \n",
    "model.add(Dense(1, activation='sigmoid'))"
   ]
  },
  {
   "cell_type": "code",
   "execution_count": 5,
   "id": "786e6995-8269-4b60-9df3-f9cb1e31137e",
   "metadata": {},
   "outputs": [
    {
     "name": "stderr",
     "output_type": "stream",
     "text": [
      "2022-03-17 16:05:28.518791: I tensorflow/compiler/mlir/mlir_graph_optimization_pass.cc:116] None of the MLIR optimization passes are enabled (registered 2)\n",
      "2022-03-17 16:05:28.519072: I tensorflow/core/platform/profile_utils/cpu_utils.cc:112] CPU Frequency: 3600000000 Hz\n"
     ]
    },
    {
     "name": "stdout",
     "output_type": "stream",
     "text": [
      "Epoch 1/200\n",
      "  51/1762 [..............................] - ETA: 1s - loss: 6.7643 - accuracy: 0.6859   "
     ]
    },
    {
     "name": "stderr",
     "output_type": "stream",
     "text": [
      "2022-03-17 16:05:28.752557: I tensorflow/stream_executor/platform/default/dso_loader.cc:49] Successfully opened dynamic library libcublas.so.10\n"
     ]
    },
    {
     "name": "stdout",
     "output_type": "stream",
     "text": [
      "1762/1762 [==============================] - 3s 1ms/step - loss: 1.2650 - accuracy: 0.6277 - val_loss: 0.6599 - val_accuracy: 0.6467\n",
      "Epoch 2/200\n",
      "1762/1762 [==============================] - 2s 1ms/step - loss: 0.6426 - accuracy: 0.6507 - val_loss: 0.6434 - val_accuracy: 0.6410\n",
      "Epoch 3/200\n",
      "1762/1762 [==============================] - 2s 1ms/step - loss: 0.6429 - accuracy: 0.6396 - val_loss: 0.6333 - val_accuracy: 0.6399\n",
      "Epoch 4/200\n",
      "1762/1762 [==============================] - 2s 1ms/step - loss: 0.6365 - accuracy: 0.6454 - val_loss: 0.6426 - val_accuracy: 0.6403\n",
      "dict_keys(['loss', 'accuracy', 'val_loss', 'val_accuracy'])\n"
     ]
    },
    {
     "data": {
      "image/png": "[encoded data removed]",
      "text/plain": [
       "<Figure size 432x288 with 1 Axes>"
      ]
     },
     "metadata": {
      "needs_background": "light"
     },
     "output_type": "display_data"
    },
    {
     "data": {
      "image/png": "[encoded data removed]",
      "text/plain": [
       "<Figure size 432x288 with 1 Axes>"
      ]
     },
     "metadata": {
      "needs_background": "light"
     },
     "output_type": "display_data"
    }
   ],
   "source": [
    "from tensorflow.keras.callbacks import EarlyStopping\n",
    "import matplotlib.pyplot as plt\n",
    "\n",
    "model.compile(loss='binary_crossentropy',\n",
    "              optimizer='adam',\n",
    "              metrics=['accuracy'])\n",
    "\n",
    "es = EarlyStopping(monitor='val_loss')                   \n",
    "history = model.fit(X_train, y_train, validation_split=0.2, epochs=200, batch_size=10, verbose=1,callbacks=[es])\n",
    "# list all data in history\n",
    "print(history.history.keys())\n",
    "# summarize history for accuracy\n",
    "plt.plot(history.history['accuracy'])\n",
    "plt.plot(history.history['val_accuracy'])\n",
    "plt.title('model accuracy')\n",
    "plt.ylabel('accuracy')\n",
    "plt.xlabel('epoch')\n",
    "plt.legend(['train', 'test'], loc='upper left')\n",
    "plt.show()\n",
    "# summarize history for loss\n",
    "plt.plot(history.history['loss'])\n",
    "plt.plot(history.history['val_loss'])\n",
    "plt.title('model loss')\n",
    "plt.ylabel('loss')\n",
    "plt.xlabel('epoch')\n",
    "plt.legend(['train', 'test'], loc='upper left')\n",
    "plt.show()"
   ]
  },
  {
   "cell_type": "code",
   "execution_count": 6,
   "id": "b5497c63-3609-4c50-8506-98516c4d1570",
   "metadata": {},
   "outputs": [],
   "source": [
    "def eval_metrics(X,Y):\n",
    "    ac = accuracy_score(X,Y) * 100\n",
    "    cm = confusion_matrix(X,Y)\n",
    "    ps = precision_score(X,Y)\n",
    "    rs = recall_score(X,Y)\n",
    "    ss = f1_score(X,Y)\n",
    "    print(f\"\"\"accuracy: {ac},\\nconfusion matrix: {cm}, \\nprecision score: {ps}, recall score: {rs}, f1 score: {ss}\"\"\")\n",
    "    return ac, cm, ps, rs, ss\n",
    "    "
   ]
  },
  {
   "cell_type": "code",
   "execution_count": 7,
   "id": "735bcec3-8052-4823-a568-b8f8b7a6a37c",
   "metadata": {},
   "outputs": [],
   "source": [
    "y_pred = model.predict(X_val)"
   ]
  },
  {
   "cell_type": "code",
   "execution_count": 8,
   "id": "55dd98f8-f84a-4f18-bd82-2784e78e5c25",
   "metadata": {},
   "outputs": [
    {
     "data": {
      "text/plain": [
       "array([[0.6450555 ],\n",
       "       [0.6818361 ],\n",
       "       [0.7049338 ],\n",
       "       ...,\n",
       "       [0.5916863 ],\n",
       "       [0.576035  ],\n",
       "       [0.46967623]], dtype=float32)"
      ]
     },
     "execution_count": 8,
     "metadata": {},
     "output_type": "execute_result"
    }
   ],
   "source": [
    "y_pred"
   ]
  },
  {
   "cell_type": "code",
   "execution_count": 9,
   "id": "4e9e8e00-060f-4500-9e24-5b759f2bd0a5",
   "metadata": {},
   "outputs": [
    {
     "data": {
      "text/plain": [
       "<tf.Tensor: shape=(5505,), dtype=float32, numpy=array([0., 0., 1., ..., 0., 0., 0.], dtype=float32)>"
      ]
     },
     "execution_count": 9,
     "metadata": {},
     "output_type": "execute_result"
    }
   ],
   "source": [
    "keras.metrics.binary_accuracy(y_val, y_pred, threshold=0.5)\n"
   ]
  },
  {
   "cell_type": "code",
   "execution_count": 10,
   "id": "269c9634-5624-4a3c-a8b1-0b8f1b5b1852",
   "metadata": {},
   "outputs": [],
   "source": [
    "seq_predictions = list(map(lambda x: 0 if x<0.6 else 1, y_pred))\n"
   ]
  },
  {
   "cell_type": "code",
   "execution_count": 11,
   "id": "309ec90e-71b2-4c34-99a2-3d74d1cf6d4b",
   "metadata": {},
   "outputs": [
    {
     "name": "stdout",
     "output_type": "stream",
     "text": [
      "accuracy: 60.962761126248864,\n",
      "confusion matrix: [[ 966 1045]\n",
      " [1104 2390]], \n",
      "precision score: 0.6957787481804949, recall score: 0.6840297653119634, f1 score: 0.6898542358204647\n"
     ]
    },
    {
     "data": {
      "text/plain": [
       "(60.962761126248864,\n",
       " array([[ 966, 1045],\n",
       "        [1104, 2390]]),\n",
       " 0.6957787481804949,\n",
       " 0.6840297653119634,\n",
       " 0.6898542358204647)"
      ]
     },
     "execution_count": 11,
     "metadata": {},
     "output_type": "execute_result"
    }
   ],
   "source": [
    "eval_metrics(y_val,seq_predictions)"
   ]
  },
  {
   "cell_type": "code",
   "execution_count": 12,
   "id": "4512a6a3-7f0e-4bdd-8432-fb61d0aca10c",
   "metadata": {},
   "outputs": [],
   "source": [
    "from sklearn import metrics\n",
    "def buildROC(target_test,test_preds):\n",
    "    fpr, tpr, threshold = metrics.roc_curve(target_test, test_preds)\n",
    "    roc_auc = metrics.auc(fpr, tpr)\n",
    "    print(f\"ROC_AUC Score = {roc_auc*100}\")\n",
    "    plt.title('Receiver Operating Characteristic')\n",
    "    plt.plot(fpr, tpr, 'b', label = 'AUC = %0.2f' % roc_auc)\n",
    "    plt.legend(loc = 'lower right')\n",
    "    plt.plot([0, 1], [0, 1],'r--')\n",
    "    plt.ylabel('True Positive Rate')\n",
    "    plt.xlabel('False Positive Rate')\n",
    "    plt.gcf().savefig('roc.png')"
   ]
  },
  {
   "cell_type": "code",
   "execution_count": 13,
   "id": "377abbbc-f357-4597-bf40-c9bb1f0669eb",
   "metadata": {},
   "outputs": [
    {
     "name": "stdout",
     "output_type": "stream",
     "text": [
      "ROC_AUC Score = 58.2193898071198\n"
     ]
    },
    {
     "data": {
      "image/png": "[encoded data removed]",
      "text/plain": [
       "<Figure size 432x288 with 1 Axes>"
      ]
     },
     "metadata": {
      "needs_background": "light"
     },
     "output_type": "display_data"
    }
   ],
   "source": [
    "buildROC(y_val,seq_predictions)"
   ]
  },
  {
   "cell_type": "code",
   "execution_count": 16,
   "id": "07c31e86-f732-429f-803a-2509f39c1cd0",
   "metadata": {},
   "outputs": [
    {
     "data": {
      "text/html": [
       "<div>\n",
       "<style scoped>\n",
       "    .dataframe tbody tr th:only-of-type {\n",
       "        vertical-align: middle;\n",
       "    }\n",
       "\n",
       "    .dataframe tbody tr th {\n",
       "        vertical-align: top;\n",
       "    }\n",
       "\n",
       "    .dataframe thead th {\n",
       "        text-align: right;\n",
       "    }\n",
       "</style>\n",
       "<table border=\"1\" class=\"dataframe\">\n",
       "  <thead>\n",
       "    <tr style=\"text-align: right;\">\n",
       "      <th></th>\n",
       "      <th>EAL</th>\n",
       "      <th>Gender</th>\n",
       "      <th>MedicalFlag</th>\n",
       "      <th>PPIndicator</th>\n",
       "      <th>SafeGuarding</th>\n",
       "      <th>SENIndicator</th>\n",
       "      <th>DistanceKm</th>\n",
       "      <th>LatePercentage</th>\n",
       "      <th>StartedLate</th>\n",
       "      <th>Positive</th>\n",
       "      <th>...</th>\n",
       "      <th>DfE main .1_MWBA</th>\n",
       "      <th>DfE main .1_MWBC</th>\n",
       "      <th>DfE main .1_NOBT</th>\n",
       "      <th>DfE main .1_OOTH</th>\n",
       "      <th>DfE main .1_REFU</th>\n",
       "      <th>DfE main .1_WBRI</th>\n",
       "      <th>DfE main .1_WIRI</th>\n",
       "      <th>DfE main .1_WIRT</th>\n",
       "      <th>DfE main .1_WOTH</th>\n",
       "      <th>DfE main .1_WROM</th>\n",
       "    </tr>\n",
       "  </thead>\n",
       "  <tbody>\n",
       "    <tr>\n",
       "      <th>4500</th>\n",
       "      <td>0</td>\n",
       "      <td>0</td>\n",
       "      <td>0</td>\n",
       "      <td>0</td>\n",
       "      <td>0</td>\n",
       "      <td>0</td>\n",
       "      <td>2</td>\n",
       "      <td>0.00</td>\n",
       "      <td>0</td>\n",
       "      <td>0</td>\n",
       "      <td>...</td>\n",
       "      <td>0</td>\n",
       "      <td>0</td>\n",
       "      <td>0</td>\n",
       "      <td>0</td>\n",
       "      <td>0</td>\n",
       "      <td>1</td>\n",
       "      <td>0</td>\n",
       "      <td>0</td>\n",
       "      <td>0</td>\n",
       "      <td>0</td>\n",
       "    </tr>\n",
       "    <tr>\n",
       "      <th>4501</th>\n",
       "      <td>0</td>\n",
       "      <td>0</td>\n",
       "      <td>0</td>\n",
       "      <td>0</td>\n",
       "      <td>0</td>\n",
       "      <td>0</td>\n",
       "      <td>1</td>\n",
       "      <td>0.00</td>\n",
       "      <td>0</td>\n",
       "      <td>0</td>\n",
       "      <td>...</td>\n",
       "      <td>0</td>\n",
       "      <td>0</td>\n",
       "      <td>0</td>\n",
       "      <td>0</td>\n",
       "      <td>0</td>\n",
       "      <td>1</td>\n",
       "      <td>0</td>\n",
       "      <td>0</td>\n",
       "      <td>0</td>\n",
       "      <td>0</td>\n",
       "    </tr>\n",
       "    <tr>\n",
       "      <th>4502</th>\n",
       "      <td>0</td>\n",
       "      <td>0</td>\n",
       "      <td>0</td>\n",
       "      <td>0</td>\n",
       "      <td>0</td>\n",
       "      <td>0</td>\n",
       "      <td>1</td>\n",
       "      <td>10.77</td>\n",
       "      <td>0</td>\n",
       "      <td>0</td>\n",
       "      <td>...</td>\n",
       "      <td>0</td>\n",
       "      <td>0</td>\n",
       "      <td>0</td>\n",
       "      <td>0</td>\n",
       "      <td>0</td>\n",
       "      <td>1</td>\n",
       "      <td>0</td>\n",
       "      <td>0</td>\n",
       "      <td>0</td>\n",
       "      <td>0</td>\n",
       "    </tr>\n",
       "    <tr>\n",
       "      <th>4503</th>\n",
       "      <td>0</td>\n",
       "      <td>0</td>\n",
       "      <td>0</td>\n",
       "      <td>0</td>\n",
       "      <td>0</td>\n",
       "      <td>0</td>\n",
       "      <td>5</td>\n",
       "      <td>1.24</td>\n",
       "      <td>0</td>\n",
       "      <td>0</td>\n",
       "      <td>...</td>\n",
       "      <td>0</td>\n",
       "      <td>0</td>\n",
       "      <td>0</td>\n",
       "      <td>0</td>\n",
       "      <td>0</td>\n",
       "      <td>1</td>\n",
       "      <td>0</td>\n",
       "      <td>0</td>\n",
       "      <td>0</td>\n",
       "      <td>0</td>\n",
       "    </tr>\n",
       "    <tr>\n",
       "      <th>4504</th>\n",
       "      <td>0</td>\n",
       "      <td>0</td>\n",
       "      <td>0</td>\n",
       "      <td>0</td>\n",
       "      <td>0</td>\n",
       "      <td>0</td>\n",
       "      <td>1</td>\n",
       "      <td>0.00</td>\n",
       "      <td>0</td>\n",
       "      <td>0</td>\n",
       "      <td>...</td>\n",
       "      <td>0</td>\n",
       "      <td>0</td>\n",
       "      <td>0</td>\n",
       "      <td>0</td>\n",
       "      <td>0</td>\n",
       "      <td>0</td>\n",
       "      <td>0</td>\n",
       "      <td>0</td>\n",
       "      <td>1</td>\n",
       "      <td>0</td>\n",
       "    </tr>\n",
       "    <tr>\n",
       "      <th>...</th>\n",
       "      <td>...</td>\n",
       "      <td>...</td>\n",
       "      <td>...</td>\n",
       "      <td>...</td>\n",
       "      <td>...</td>\n",
       "      <td>...</td>\n",
       "      <td>...</td>\n",
       "      <td>...</td>\n",
       "      <td>...</td>\n",
       "      <td>...</td>\n",
       "      <td>...</td>\n",
       "      <td>...</td>\n",
       "      <td>...</td>\n",
       "      <td>...</td>\n",
       "      <td>...</td>\n",
       "      <td>...</td>\n",
       "      <td>...</td>\n",
       "      <td>...</td>\n",
       "      <td>...</td>\n",
       "      <td>...</td>\n",
       "      <td>...</td>\n",
       "    </tr>\n",
       "    <tr>\n",
       "      <th>5500</th>\n",
       "      <td>0</td>\n",
       "      <td>0</td>\n",
       "      <td>0</td>\n",
       "      <td>0</td>\n",
       "      <td>0</td>\n",
       "      <td>0</td>\n",
       "      <td>4</td>\n",
       "      <td>0.00</td>\n",
       "      <td>0</td>\n",
       "      <td>0</td>\n",
       "      <td>...</td>\n",
       "      <td>0</td>\n",
       "      <td>0</td>\n",
       "      <td>0</td>\n",
       "      <td>0</td>\n",
       "      <td>0</td>\n",
       "      <td>1</td>\n",
       "      <td>0</td>\n",
       "      <td>0</td>\n",
       "      <td>0</td>\n",
       "      <td>0</td>\n",
       "    </tr>\n",
       "    <tr>\n",
       "      <th>5501</th>\n",
       "      <td>0</td>\n",
       "      <td>0</td>\n",
       "      <td>0</td>\n",
       "      <td>0</td>\n",
       "      <td>0</td>\n",
       "      <td>0</td>\n",
       "      <td>1</td>\n",
       "      <td>0.00</td>\n",
       "      <td>0</td>\n",
       "      <td>0</td>\n",
       "      <td>...</td>\n",
       "      <td>0</td>\n",
       "      <td>0</td>\n",
       "      <td>0</td>\n",
       "      <td>0</td>\n",
       "      <td>0</td>\n",
       "      <td>1</td>\n",
       "      <td>0</td>\n",
       "      <td>0</td>\n",
       "      <td>0</td>\n",
       "      <td>0</td>\n",
       "    </tr>\n",
       "    <tr>\n",
       "      <th>5502</th>\n",
       "      <td>0</td>\n",
       "      <td>0</td>\n",
       "      <td>0</td>\n",
       "      <td>0</td>\n",
       "      <td>0</td>\n",
       "      <td>0</td>\n",
       "      <td>2</td>\n",
       "      <td>0.65</td>\n",
       "      <td>0</td>\n",
       "      <td>20</td>\n",
       "      <td>...</td>\n",
       "      <td>0</td>\n",
       "      <td>0</td>\n",
       "      <td>0</td>\n",
       "      <td>0</td>\n",
       "      <td>0</td>\n",
       "      <td>0</td>\n",
       "      <td>0</td>\n",
       "      <td>0</td>\n",
       "      <td>0</td>\n",
       "      <td>0</td>\n",
       "    </tr>\n",
       "    <tr>\n",
       "      <th>5503</th>\n",
       "      <td>0</td>\n",
       "      <td>0</td>\n",
       "      <td>0</td>\n",
       "      <td>0</td>\n",
       "      <td>0</td>\n",
       "      <td>0</td>\n",
       "      <td>1</td>\n",
       "      <td>0.63</td>\n",
       "      <td>0</td>\n",
       "      <td>0</td>\n",
       "      <td>...</td>\n",
       "      <td>0</td>\n",
       "      <td>0</td>\n",
       "      <td>0</td>\n",
       "      <td>0</td>\n",
       "      <td>0</td>\n",
       "      <td>1</td>\n",
       "      <td>0</td>\n",
       "      <td>0</td>\n",
       "      <td>0</td>\n",
       "      <td>0</td>\n",
       "    </tr>\n",
       "    <tr>\n",
       "      <th>5504</th>\n",
       "      <td>0</td>\n",
       "      <td>0</td>\n",
       "      <td>0</td>\n",
       "      <td>0</td>\n",
       "      <td>0</td>\n",
       "      <td>0</td>\n",
       "      <td>4</td>\n",
       "      <td>3.87</td>\n",
       "      <td>0</td>\n",
       "      <td>9</td>\n",
       "      <td>...</td>\n",
       "      <td>0</td>\n",
       "      <td>0</td>\n",
       "      <td>0</td>\n",
       "      <td>0</td>\n",
       "      <td>0</td>\n",
       "      <td>1</td>\n",
       "      <td>0</td>\n",
       "      <td>0</td>\n",
       "      <td>0</td>\n",
       "      <td>0</td>\n",
       "    </tr>\n",
       "  </tbody>\n",
       "</table>\n",
       "<p>1005 rows × 34 columns</p>\n",
       "</div>"
      ],
      "text/plain": [
       "      EAL  Gender  MedicalFlag  PPIndicator  SafeGuarding  SENIndicator  \\\n",
       "4500    0       0            0            0             0             0   \n",
       "4501    0       0            0            0             0             0   \n",
       "4502    0       0            0            0             0             0   \n",
       "4503    0       0            0            0             0             0   \n",
       "4504    0       0            0            0             0             0   \n",
       "...   ...     ...          ...          ...           ...           ...   \n",
       "5500    0       0            0            0             0             0   \n",
       "5501    0       0            0            0             0             0   \n",
       "5502    0       0            0            0             0             0   \n",
       "5503    0       0            0            0             0             0   \n",
       "5504    0       0            0            0             0             0   \n",
       "\n",
       "      DistanceKm  LatePercentage  StartedLate  Positive  ...  \\\n",
       "4500           2            0.00            0         0  ...   \n",
       "4501           1            0.00            0         0  ...   \n",
       "4502           1           10.77            0         0  ...   \n",
       "4503           5            1.24            0         0  ...   \n",
       "4504           1            0.00            0         0  ...   \n",
       "...          ...             ...          ...       ...  ...   \n",
       "5500           4            0.00            0         0  ...   \n",
       "5501           1            0.00            0         0  ...   \n",
       "5502           2            0.65            0        20  ...   \n",
       "5503           1            0.63            0         0  ...   \n",
       "5504           4            3.87            0         9  ...   \n",
       "\n",
       "      DfE main .1_MWBA  DfE main .1_MWBC  DfE main .1_NOBT  DfE main .1_OOTH  \\\n",
       "4500                 0                 0                 0                 0   \n",
       "4501                 0                 0                 0                 0   \n",
       "4502                 0                 0                 0                 0   \n",
       "4503                 0                 0                 0                 0   \n",
       "4504                 0                 0                 0                 0   \n",
       "...                ...               ...               ...               ...   \n",
       "5500                 0                 0                 0                 0   \n",
       "5501                 0                 0                 0                 0   \n",
       "5502                 0                 0                 0                 0   \n",
       "5503                 0                 0                 0                 0   \n",
       "5504                 0                 0                 0                 0   \n",
       "\n",
       "      DfE main .1_REFU  DfE main .1_WBRI  DfE main .1_WIRI  DfE main .1_WIRT  \\\n",
       "4500                 0                 1                 0                 0   \n",
       "4501                 0                 1                 0                 0   \n",
       "4502                 0                 1                 0                 0   \n",
       "4503                 0                 1                 0                 0   \n",
       "4504                 0                 0                 0                 0   \n",
       "...                ...               ...               ...               ...   \n",
       "5500                 0                 1                 0                 0   \n",
       "5501                 0                 1                 0                 0   \n",
       "5502                 0                 0                 0                 0   \n",
       "5503                 0                 1                 0                 0   \n",
       "5504                 0                 1                 0                 0   \n",
       "\n",
       "      DfE main .1_WOTH  DfE main .1_WROM  \n",
       "4500                 0                 0  \n",
       "4501                 0                 0  \n",
       "4502                 0                 0  \n",
       "4503                 0                 0  \n",
       "4504                 1                 0  \n",
       "...                ...               ...  \n",
       "5500                 0                 0  \n",
       "5501                 0                 0  \n",
       "5502                 0                 0  \n",
       "5503                 0                 0  \n",
       "5504                 0                 0  \n",
       "\n",
       "[1005 rows x 34 columns]"
      ]
     },
     "execution_count": 16,
     "metadata": {},
     "output_type": "execute_result"
    }
   ],
   "source": [
    "X_val.iloc[4500:]"
   ]
  },
  {
   "cell_type": "code",
   "execution_count": 19,
   "id": "d7dc4194-091f-490b-ba81-0bef76c5515c",
   "metadata": {},
   "outputs": [
    {
     "name": "stdout",
     "output_type": "stream",
     "text": [
      "Model: \"sequential\"\n",
      "_________________________________________________________________\n",
      "Layer (type)                 Output Shape              Param #   \n",
      "=================================================================\n",
      "dense (Dense)                (None, 16)                560       \n",
      "_________________________________________________________________\n",
      "dense_1 (Dense)              (None, 16)                272       \n",
      "_________________________________________________________________\n",
      "dense_2 (Dense)              (None, 1)                 17        \n",
      "=================================================================\n",
      "Total params: 849\n",
      "Trainable params: 849\n",
      "Non-trainable params: 0\n",
      "_________________________________________________________________\n"
     ]
    }
   ],
   "source": [
    "model.summary()"
   ]
  },
  {
   "cell_type": "code",
   "execution_count": 70,
   "id": "7a4adaed-04f9-4ebb-abe8-22fec80c8cf2",
   "metadata": {},
   "outputs": [],
   "source": [
    "data_for_prediction = X_val.iloc[0:1,:].values.astype('float')\n",
    "background = X_train.iloc[0:2000,:].values.astype('float')"
   ]
  },
  {
   "cell_type": "code",
   "execution_count": 71,
   "id": "d2a06eef-eb02-4ad2-a9aa-c53c28b87724",
   "metadata": {},
   "outputs": [],
   "source": [
    "import warnings\n",
    "warnings.filterwarnings('ignore')"
   ]
  },
  {
   "cell_type": "code",
   "execution_count": null,
   "id": "6b0d5160-ee26-4a85-ab42-cc200be30717",
   "metadata": {},
   "outputs": [],
   "source": [
    "%%time\n",
    "explainer = shap.KernelExplainer(model, background)\n",
    "shap_values = explainer.shap_values(data_for_prediction )"
   ]
  },
  {
   "cell_type": "code",
   "execution_count": 68,
   "id": "f9e2431d-91d8-499b-9e88-3398eadd2c0b",
   "metadata": {},
   "outputs": [
    {
     "data": {
      "text/plain": [
       "array([[ 0.  ,  0.  ,  0.  ,  0.  ,  0.  ,  0.  ,  0.  ,  3.92,  0.  ,\n",
       "         0.  ,  0.  ,  0.  , 92.81,  0.  ,  0.  ,  0.  ,  0.  ,  0.  ,\n",
       "         0.  ,  0.  ,  0.  ,  0.  ,  0.  ,  0.  ,  0.  ,  0.  ,  0.  ,\n",
       "         0.  ,  0.  ,  1.  ,  0.  ,  0.  ,  0.  ,  0.  ]])"
      ]
     },
     "execution_count": 68,
     "metadata": {},
     "output_type": "execute_result"
    }
   ],
   "source": [
    "data_for_prediction"
   ]
  },
  {
   "cell_type": "code",
   "execution_count": 74,
   "id": "c1875154-1023-4e53-b360-e74b08585117",
   "metadata": {},
   "outputs": [
    {
     "data": {
      "text/plain": [
       "Index(['EAL', 'Gender', 'MedicalFlag', 'PPIndicator', 'SafeGuarding',\n",
       "       'SENIndicator', 'DistanceKm', 'LatePercentage', 'StartedLate',\n",
       "       'Positive', 'Negative', 'FIXD', 'percentageattendance', 'summerborn',\n",
       "       'DfE main .1_ABAN', 'DfE main .1_AIND', 'DfE main .1_AOTH',\n",
       "       'DfE main .1_APKN', 'DfE main .1_BAFR', 'DfE main .1_BCRB',\n",
       "       'DfE main .1_BOTH', 'DfE main .1_CHNE', 'DfE main .1_MOTH',\n",
       "       'DfE main .1_MWAS', 'DfE main .1_MWBA', 'DfE main .1_MWBC',\n",
       "       'DfE main .1_NOBT', 'DfE main .1_OOTH', 'DfE main .1_REFU',\n",
       "       'DfE main .1_WBRI', 'DfE main .1_WIRI', 'DfE main .1_WIRT',\n",
       "       'DfE main .1_WOTH', 'DfE main .1_WROM'],\n",
       "      dtype='object')"
      ]
     },
     "execution_count": 74,
     "metadata": {},
     "output_type": "execute_result"
    }
   ],
   "source": [
    "X_val.columns"
   ]
  },
  {
   "cell_type": "code",
   "execution_count": 75,
   "id": "55517d7b-ec3f-48e6-831b-888af600b3c6",
   "metadata": {},
   "outputs": [
    {
     "data": {
      "text/html": [
       "\n",
       "<div id='iFBD5M7C4GA91ZAV3HQ2I'>\n",
       "<div style='color: #900; text-align: center;'>\n",
       "  <b>Visualization omitted, Javascript library not loaded!</b><br>\n",
       "  Have you run `initjs()` in this notebook? If this notebook was from another\n",
       "  user you must also trust this notebook (File -> Trust notebook). If you are viewing\n",
       "  this notebook on github the Javascript has been stripped for security. If you are using\n",
       "  JupyterLab this error is because a JupyterLab extension has not yet been written.\n",
       "</div></div>\n",
       " <script>\n",
       "   if (window.SHAP) SHAP.ReactDom.render(\n",
       "    SHAP.React.createElement(SHAP.AdditiveForceVisualizer, {\"outNames\": [\"f(x)\"], \"baseValue\": 0.5968615164197982, \"outValue\": 0.6450555074736106, \"link\": \"identity\", \"featureNames\": [\"EAL\", \"Gender\", \"MedicalFlag\", \"PPIndicator\", \"SafeGuarding\", \"SENIndicator\", \"DistanceKm\", \"LatePercentage\", \"StartedLate\", \"Positive\", \"Negative\", \"FIXD\", \"percentageattendance\", \"summerborn\", \"DfE main .1_ABAN\", \"DfE main .1_AIND\", \"DfE main .1_AOTH\", \"DfE main .1_APKN\", \"DfE main .1_BAFR\", \"DfE main .1_BCRB\", \"DfE main .1_BOTH\", \"DfE main .1_CHNE\", \"DfE main .1_MOTH\", \"DfE main .1_MWAS\", \"DfE main .1_MWBA\", \"DfE main .1_MWBC\", \"DfE main .1_NOBT\", \"DfE main .1_OOTH\", \"DfE main .1_REFU\", \"DfE main .1_WBRI\", \"DfE main .1_WIRI\", \"DfE main .1_WIRT\", \"DfE main .1_WOTH\", \"DfE main .1_WROM\"], \"features\": {\"6\": {\"effect\": 0.02127221419335454, \"value\": 0.0}, \"7\": {\"effect\": -0.018651607382134568, \"value\": 3.92}, \"9\": {\"effect\": 0.01610769282843258, \"value\": 0.0}, \"10\": {\"effect\": 0.003972565594661973, \"value\": 0.0}, \"11\": {\"effect\": 0.0041059796116715355, \"value\": 0.0}, \"12\": {\"effect\": 0.0033916119812149245, \"value\": 92.81}, \"14\": {\"effect\": 0.0003975583723034165, \"value\": 0.0}, \"17\": {\"effect\": 0.0016871552101468956, \"value\": 0.0}, \"23\": {\"effect\": 0.0003865419525448978, \"value\": 0.0}, \"25\": {\"effect\": 0.00076471002326646, \"value\": 0.0}, \"26\": {\"effect\": 0.0006902730827036199, \"value\": 0.0}, \"27\": {\"effect\": 0.0010155281874270443, \"value\": 0.0}, \"29\": {\"effect\": 0.00877834494472552, \"value\": 1.0}, \"32\": {\"effect\": 0.004036459982008377, \"value\": 0.0}, \"33\": {\"effect\": 0.00023896247148513794, \"value\": 0.0}}, \"plot_cmap\": \"RdBu\", \"labelMargin\": 20}),\n",
       "    document.getElementById('iFBD5M7C4GA91ZAV3HQ2I')\n",
       "  );\n",
       "</script>"
      ],
      "text/plain": [
       "<shap.plots._force.AdditiveForceVisualizer at 0x7f2ac435d7c0>"
      ]
     },
     "execution_count": 75,
     "metadata": {},
     "output_type": "execute_result"
    }
   ],
   "source": [
    "shap.force_plot(explainer.expected_value[0], shap_values[0], data_for_prediction, feature_names =X_val.columns )\n",
    "\n"
   ]
  },
  {
   "cell_type": "code",
   "execution_count": 40,
   "id": "ead9f5ff-a2c3-496d-9fc7-d0c75d847a51",
   "metadata": {},
   "outputs": [
    {
     "data": {
      "image/png": "[encoded data removed]",
      "text/plain": [
       "<Figure size 576x684 with 1 Axes>"
      ]
     },
     "metadata": {
      "needs_background": "light"
     },
     "output_type": "display_data"
    }
   ],
   "source": [
    "shap.summary_plot(shap_values, X_val)\n"
   ]
  },
  {
   "cell_type": "code",
   "execution_count": null,
   "id": "15a9162a-46ef-4f4f-963b-eb20adb5997c",
   "metadata": {},
   "outputs": [],
   "source": []
  }
 ],
 "metadata": {
  "kernelspec": {
   "display_name": "Python 3 (ipykernel)",
   "language": "python",
   "name": "python3"
  },
  "language_info": {
   "codemirror_mode": {
    "name": "ipython",
    "version": 3
   },
   "file_extension": ".py",
   "mimetype": "text/x-python",
   "name": "python",
   "nbconvert_exporter": "python",
   "pygments_lexer": "ipython3",
   "version": "3.9.7"
  }
 },
 "nbformat": 4,
 "nbformat_minor": 5
}
