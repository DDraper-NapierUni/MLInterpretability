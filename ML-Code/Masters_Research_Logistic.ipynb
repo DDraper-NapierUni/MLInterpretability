{
 "cells": [
  {
   "cell_type": "code",
   "execution_count": 40,
   "id": "6b4a6860-af46-472f-9cef-5873f61e5f3b",
   "metadata": {},
   "outputs": [],
   "source": [
    "import pandas as pd\n",
    "import matplotlib.pyplot as plt\n",
    "from sklearn.linear_model import LogisticRegression\n",
    "from sklearn.metrics import confusion_matrix, precision_score, recall_score, f1_score, cohen_kappa_score"
   ]
  },
  {
   "cell_type": "code",
   "execution_count": 41,
   "id": "310a40b0-552d-4fa4-9bc7-b11ecd249a11",
   "metadata": {},
   "outputs": [],
   "source": [
    "X_train = pd.read_csv('X_train.csv')\n",
    "X_val = pd.read_csv('X_val.csv')\n",
    "y_train = pd.read_csv('y_train.csv')\n",
    "y_val = pd.read_csv('y_val.csv')"
   ]
  },
  {
   "cell_type": "code",
   "execution_count": 42,
   "id": "342bc5de-5130-470c-b009-618b4885c238",
   "metadata": {},
   "outputs": [
    {
     "data": {
      "text/plain": [
       "0        0\n",
       "1        1\n",
       "2        1\n",
       "3        1\n",
       "4        0\n",
       "        ..\n",
       "22014    1\n",
       "22015    1\n",
       "22016    1\n",
       "22017    0\n",
       "22018    0\n",
       "Name: Achieve_Target, Length: 22019, dtype: int64"
      ]
     },
     "execution_count": 42,
     "metadata": {},
     "output_type": "execute_result"
    }
   ],
   "source": [
    "y_train['Achieve_Target']"
   ]
  },
  {
   "cell_type": "code",
   "execution_count": 43,
   "id": "f7f564d7-fb21-4e0a-8e1e-18ab9a3c133c",
   "metadata": {},
   "outputs": [
    {
     "name": "stderr",
     "output_type": "stream",
     "text": [
      "/home/david/anaconda3/envs/tf2/lib/python3.9/site-packages/sklearn/linear_model/_logistic.py:814: ConvergenceWarning: lbfgs failed to converge (status=1):\n",
      "STOP: TOTAL NO. of ITERATIONS REACHED LIMIT.\n",
      "\n",
      "Increase the number of iterations (max_iter) or scale the data as shown in:\n",
      "    https://scikit-learn.org/stable/modules/preprocessing.html\n",
      "Please also refer to the documentation for alternative solver options:\n",
      "    https://scikit-learn.org/stable/modules/linear_model.html#logistic-regression\n",
      "  n_iter_i = _check_optimize_result(\n"
     ]
    }
   ],
   "source": [
    "clf = LogisticRegression(random_state=0).fit(X_train, y_train['Achieve_Target'])"
   ]
  },
  {
   "cell_type": "code",
   "execution_count": 44,
   "id": "9f0fdfb8-d561-4402-99d5-7ea0f8de36eb",
   "metadata": {},
   "outputs": [
    {
     "data": {
      "text/plain": [
       "0.6485762296198737"
      ]
     },
     "execution_count": 44,
     "metadata": {},
     "output_type": "execute_result"
    }
   ],
   "source": [
    "clf.score(X_train, y_train['Achieve_Target'])"
   ]
  },
  {
   "cell_type": "code",
   "execution_count": 45,
   "id": "d7ea8717-ab7b-47bd-9b9d-611484b8eab2",
   "metadata": {},
   "outputs": [
    {
     "data": {
      "text/plain": [
       "0.6421435059037239"
      ]
     },
     "execution_count": 45,
     "metadata": {},
     "output_type": "execute_result"
    }
   ],
   "source": [
    "clf.score(X_val, y_val['Achieve_Target'])"
   ]
  },
  {
   "cell_type": "code",
   "execution_count": 46,
   "id": "3cd3cb0f-28da-4100-bb68-3aa77c860d63",
   "metadata": {},
   "outputs": [
    {
     "name": "stdout",
     "output_type": "stream",
     "text": [
      "Feature: 0, Score: 0.00000\n",
      "Feature: 1, Score: 0.00000\n",
      "Feature: 2, Score: 0.00000\n",
      "Feature: 3, Score: 0.00000\n",
      "Feature: 4, Score: 0.00000\n",
      "Feature: 5, Score: 0.00000\n",
      "Feature: 6, Score: -1255.17364\n",
      "Feature: 7, Score: -793.33089\n",
      "Feature: 8, Score: 0.00000\n",
      "Feature: 9, Score: -227.49380\n",
      "Feature: 10, Score: -1241.87704\n",
      "Feature: 11, Score: -3826.16640\n",
      "Feature: 12, Score: 2542.82248\n",
      "Feature: 13, Score: 0.00000\n",
      "Feature: 14, Score: -16277.35260\n",
      "Feature: 15, Score: -2685.75597\n",
      "Feature: 16, Score: -22424.05728\n",
      "Feature: 17, Score: -43327.62615\n",
      "Feature: 18, Score: 8276.20206\n",
      "Feature: 19, Score: -591.80117\n",
      "Feature: 20, Score: 6361.57590\n",
      "Feature: 21, Score: 3984.69642\n",
      "Feature: 22, Score: -4048.56932\n",
      "Feature: 23, Score: -28929.55875\n",
      "Feature: 24, Score: -2100.59002\n",
      "Feature: 25, Score: -28503.40872\n",
      "Feature: 26, Score: -13527.57783\n",
      "Feature: 27, Score: -27710.11840\n",
      "Feature: 28, Score: 5308.67971\n",
      "Feature: 29, Score: 17660.97331\n",
      "Feature: 30, Score: -3259.38890\n",
      "Feature: 31, Score: -5149.66087\n",
      "Feature: 32, Score: -10333.20839\n",
      "Feature: 33, Score: -1424.82535\n"
     ]
    },
    {
     "data": {
      "image/png": "[encoded data removed]",
      "text/plain": [
       "<Figure size 432x288 with 1 Axes>"
      ]
     },
     "metadata": {
      "needs_background": "light"
     },
     "output_type": "display_data"
    }
   ],
   "source": [
    "importance = clf.coef_[0]*100000\n",
    "# summarise feature importance\n",
    "for i,v in enumerate(importance):\n",
    "\tprint('Feature: %0d, Score: %.5f' % (i,v))\n",
    "# plot feature importance\n",
    "plt.bar([x for x in range(len(importance))], importance)\n",
    "plt.show()"
   ]
  },
  {
   "cell_type": "code",
   "execution_count": null,
   "id": "281c078e-c74b-4613-80fb-a397ef7c51a5",
   "metadata": {},
   "outputs": [],
   "source": []
  }
 ],
 "metadata": {
  "kernelspec": {
   "display_name": "Python 3 (ipykernel)",
   "language": "python",
   "name": "python3"
  },
  "language_info": {
   "codemirror_mode": {
    "name": "ipython",
    "version": 3
   },
   "file_extension": ".py",
   "mimetype": "text/x-python",
   "name": "python",
   "nbconvert_exporter": "python",
   "pygments_lexer": "ipython3",
   "version": "3.9.7"
  }
 },
 "nbformat": 4,
 "nbformat_minor": 5
}
