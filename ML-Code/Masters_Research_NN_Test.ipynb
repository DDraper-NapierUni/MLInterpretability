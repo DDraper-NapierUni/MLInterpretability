{
 "cells": [
  {
   "cell_type": "code",
   "execution_count": 8,
   "id": "6b778043-0358-47ae-b50b-f0ade933bae1",
   "metadata": {},
   "outputs": [],
   "source": [
    "import pandas as pd\n",
    "import numpy as np\n",
    "import seaborn as sns\n",
    "from sklearn import preprocessing\n",
    "from sklearn.model_selection import train_test_split\n",
    "from sklearn.model_selection import cross_val_score\n",
    "from sklearn.ensemble import RandomForestClassifier\n",
    "from sklearn.ensemble import GradientBoostingClassifier\n",
    "from sklearn.linear_model import LogisticRegression\n",
    "from sklearn.linear_model import SGDClassifier\n",
    "from sklearn.svm import SVC\n",
    "from sklearn.metrics import accuracy_score,confusion_matrix, precision_score, recall_score, f1_score, cohen_kappa_score\n",
    "import tensorflow as tf\n",
    "from tensorflow import keras\n",
    "from datetime import datetime\n",
    "from tensorflow.keras.callbacks import EarlyStopping\n",
    "import matplotlib.pyplot as plt\n",
    "import shap\n",
    "from pickle import dump\n",
    "from pickle import load\n",
    "from sklearn.preprocessing import OneHotEncoder\n",
    "import keras_tuner as kt"
   ]
  },
  {
   "cell_type": "code",
   "execution_count": 9,
   "id": "b6e642f3-0513-44a6-9f68-9fd5fa3ddc11",
   "metadata": {},
   "outputs": [],
   "source": [
    "!pip install -q -U keras-tuner"
   ]
  },
  {
   "cell_type": "code",
   "execution_count": 10,
   "id": "feab523d-3e62-451a-9a74-8cb11f964899",
   "metadata": {},
   "outputs": [
    {
     "data": {
      "text/plain": [
       "True"
      ]
     },
     "execution_count": 10,
     "metadata": {},
     "output_type": "execute_result"
    }
   ],
   "source": [
    "tf.__version__\n",
    "tf.test.is_built_with_cuda()"
   ]
  },
  {
   "cell_type": "code",
   "execution_count": 11,
   "id": "8fd6afab-d398-41e9-9cc1-44a10f25902b",
   "metadata": {},
   "outputs": [],
   "source": [
    "X_train = pd.read_csv('X_train.csv')\n",
    "X_val = pd.read_csv('X_val.csv')\n",
    "y_train = pd.read_csv('y_train.csv')\n",
    "y_val = pd.read_csv('y_val.csv')"
   ]
  },
  {
   "cell_type": "code",
   "execution_count": 12,
   "id": "19cda90f-ff03-48b7-bfaa-4f79b31c92be",
   "metadata": {},
   "outputs": [],
   "source": [
    "stop_early = tf.keras.callbacks.EarlyStopping(monitor='val_loss', patience=5)\n"
   ]
  },
  {
   "cell_type": "code",
   "execution_count": 17,
   "id": "92f33b79-fd86-4bec-912b-3f8f2a5f8b17",
   "metadata": {},
   "outputs": [],
   "source": [
    "def model_builder(hp):\n",
    "  model = keras.Sequential()\n",
    "  model.add(keras.layers.Flatten(input_shape=(X_train.shape[1],)))\n",
    "\n",
    "  # Tune the number of units in the first Dense layer\n",
    "  # Choose an optimal value between 32-512\n",
    "  hp_units = hp.Int('units', min_value=32, max_value=512, step=32)\n",
    "  model.add(keras.layers.Dense(units=hp_units, activation='relu'))\n",
    "  model.add(keras.layers.Dense(10))\n",
    "\n",
    "  # Tune the learning rate for the optimizer\n",
    "  # Choose an optimal value from 0.01, 0.001, or 0.0001\n",
    "  hp_learning_rate = hp.Choice('learning_rate', values=[1e-2, 1e-3, 1e-4])\n",
    "\n",
    "  model.compile(optimizer=keras.optimizers.Adam(learning_rate=hp_learning_rate),\n",
    "                loss='binary_crossentropy',\n",
    "                metrics=['accuracy'])\n",
    "\n",
    "  return model"
   ]
  },
  {
   "cell_type": "code",
   "execution_count": 18,
   "id": "ff43e959-c269-44a0-a0de-e5ba4c9636b1",
   "metadata": {},
   "outputs": [
    {
     "name": "stdout",
     "output_type": "stream",
     "text": [
      "INFO:tensorflow:Reloading Oracle from existing project my_dir/intro_to_kt/oracle.json\n"
     ]
    }
   ],
   "source": [
    "tuner = kt.Hyperband(model_builder,\n",
    "                     objective='val_accuracy',\n",
    "                     max_epochs=10,\n",
    "                     factor=3,\n",
    "                     directory='my_dir',\n",
    "                     project_name='intro_to_kt')"
   ]
  },
  {
   "cell_type": "code",
   "execution_count": 19,
   "id": "bb1cf4e3-1592-4b4c-be12-75cc6fdd00af",
   "metadata": {},
   "outputs": [
    {
     "name": "stdout",
     "output_type": "stream",
     "text": [
      "Trial 31 Complete [00h 00m 07s]\n",
      "val_accuracy: 0.012715713120996952\n",
      "\n",
      "Best val_accuracy So Far: 0.6469119191169739\n",
      "Total elapsed time: 00h 01m 41s\n",
      "INFO:tensorflow:Oracle triggered exit\n",
      "\n",
      "The hyperparameter search is complete. The optimal number of units in the first densely-connected\n",
      "layer is 448 and the optimal learning rate for the optimizer\n",
      "is 0.01.\n",
      "\n"
     ]
    }
   ],
   "source": [
    "tuner.search(X_train, y_train, epochs=50, validation_split=0.2, callbacks=[stop_early])\n",
    "\n",
    "# Get the optimal hyperparameters\n",
    "best_hps=tuner.get_best_hyperparameters(num_trials=1)[0]\n",
    "\n",
    "print(f\"\"\"\n",
    "The hyperparameter search is complete. The optimal number of units in the first densely-connected\n",
    "layer is {best_hps.get('units')} and the optimal learning rate for the optimizer\n",
    "is {best_hps.get('learning_rate')}.\n",
    "\"\"\")"
   ]
  },
  {
   "cell_type": "code",
   "execution_count": 21,
   "id": "9f6327b2-76c3-4d59-af2d-8639397cc1c4",
   "metadata": {},
   "outputs": [
    {
     "name": "stdout",
     "output_type": "stream",
     "text": [
      "Epoch 1/50\n",
      "551/551 [==============================] - 1s 1ms/step - loss: 7.0365 - accuracy: 1.3957e-04 - val_loss: 8.6003 - val_accuracy: 0.0000e+00\n",
      "Epoch 2/50\n",
      "551/551 [==============================] - 1s 1ms/step - loss: 8.5985 - accuracy: 0.0000e+00 - val_loss: 9.0597 - val_accuracy: 0.0000e+00\n",
      "Epoch 3/50\n",
      "551/551 [==============================] - 1s 1ms/step - loss: 9.0555 - accuracy: 0.0000e+00 - val_loss: 9.0608 - val_accuracy: 0.0000e+00\n",
      "Epoch 4/50\n",
      "551/551 [==============================] - 1s 2ms/step - loss: 9.1360 - accuracy: 0.0000e+00 - val_loss: 9.5192 - val_accuracy: 0.0000e+00\n",
      "Epoch 5/50\n",
      "551/551 [==============================] - 1s 1ms/step - loss: 9.4756 - accuracy: 0.0000e+00 - val_loss: 9.5192 - val_accuracy: 0.0000e+00\n",
      "Epoch 6/50\n",
      "551/551 [==============================] - 1s 1ms/step - loss: 9.4834 - accuracy: 0.0000e+00 - val_loss: 9.5192 - val_accuracy: 0.0000e+00\n",
      "Epoch 7/50\n",
      "551/551 [==============================] - 1s 1ms/step - loss: 9.5037 - accuracy: 0.0000e+00 - val_loss: 9.5192 - val_accuracy: 0.0000e+00\n",
      "Epoch 8/50\n",
      "551/551 [==============================] - 1s 1ms/step - loss: 9.5464 - accuracy: 0.0000e+00 - val_loss: 9.5192 - val_accuracy: 0.0000e+00\n",
      "Epoch 9/50\n",
      "551/551 [==============================] - 1s 1ms/step - loss: 9.4895 - accuracy: 0.0000e+00 - val_loss: 9.5192 - val_accuracy: 0.0000e+00\n",
      "Epoch 10/50\n",
      "551/551 [==============================] - 1s 1ms/step - loss: 9.5451 - accuracy: 0.0000e+00 - val_loss: 9.5192 - val_accuracy: 0.0000e+00\n",
      "Epoch 11/50\n",
      "551/551 [==============================] - 1s 1ms/step - loss: 9.4930 - accuracy: 0.0000e+00 - val_loss: 9.5192 - val_accuracy: 0.0000e+00\n",
      "Epoch 12/50\n",
      "551/551 [==============================] - 1s 1ms/step - loss: 9.5322 - accuracy: 0.0000e+00 - val_loss: 9.5192 - val_accuracy: 0.0000e+00\n",
      "Epoch 13/50\n",
      "551/551 [==============================] - 1s 1ms/step - loss: 9.5184 - accuracy: 0.0000e+00 - val_loss: 9.5192 - val_accuracy: 0.0000e+00\n",
      "Epoch 14/50\n",
      "551/551 [==============================] - 1s 1ms/step - loss: 9.6161 - accuracy: 0.0000e+00 - val_loss: 9.5192 - val_accuracy: 0.0000e+00\n",
      "Epoch 15/50\n",
      "551/551 [==============================] - 1s 1ms/step - loss: 9.5002 - accuracy: 0.0000e+00 - val_loss: 9.5192 - val_accuracy: 0.0000e+00\n",
      "Epoch 16/50\n",
      "551/551 [==============================] - 1s 1ms/step - loss: 9.6343 - accuracy: 0.0000e+00 - val_loss: 9.5192 - val_accuracy: 0.0000e+00\n",
      "Epoch 17/50\n",
      "551/551 [==============================] - 1s 2ms/step - loss: 9.5302 - accuracy: 0.0000e+00 - val_loss: 9.5192 - val_accuracy: 0.0000e+00\n",
      "Epoch 18/50\n",
      "551/551 [==============================] - 1s 2ms/step - loss: 9.5605 - accuracy: 0.0000e+00 - val_loss: 9.5192 - val_accuracy: 0.0000e+00\n",
      "Epoch 19/50\n",
      "551/551 [==============================] - 1s 1ms/step - loss: 9.5658 - accuracy: 0.0000e+00 - val_loss: 9.5192 - val_accuracy: 0.0000e+00\n",
      "Epoch 20/50\n",
      "551/551 [==============================] - 1s 1ms/step - loss: 9.5395 - accuracy: 0.0000e+00 - val_loss: 9.5192 - val_accuracy: 0.0000e+00\n",
      "Epoch 21/50\n",
      "551/551 [==============================] - 1s 2ms/step - loss: 9.5242 - accuracy: 0.0000e+00 - val_loss: 9.5192 - val_accuracy: 0.0000e+00\n",
      "Epoch 22/50\n",
      "551/551 [==============================] - 1s 1ms/step - loss: 9.4852 - accuracy: 0.0000e+00 - val_loss: 9.5192 - val_accuracy: 0.0000e+00\n",
      "Epoch 23/50\n",
      "551/551 [==============================] - 1s 1ms/step - loss: 9.5292 - accuracy: 0.0000e+00 - val_loss: 9.5192 - val_accuracy: 0.0000e+00\n",
      "Epoch 24/50\n",
      "551/551 [==============================] - 1s 1ms/step - loss: 9.5038 - accuracy: 0.0000e+00 - val_loss: 9.5192 - val_accuracy: 0.0000e+00\n",
      "Epoch 25/50\n",
      "551/551 [==============================] - 1s 1ms/step - loss: 9.5283 - accuracy: 0.0000e+00 - val_loss: 9.5192 - val_accuracy: 0.0000e+00\n",
      "Epoch 26/50\n",
      "551/551 [==============================] - 1s 1ms/step - loss: 9.5845 - accuracy: 0.0000e+00 - val_loss: 9.5192 - val_accuracy: 0.0000e+00\n",
      "Epoch 27/50\n",
      "551/551 [==============================] - 1s 1ms/step - loss: 9.4547 - accuracy: 0.0000e+00 - val_loss: 9.5192 - val_accuracy: 0.0000e+00\n",
      "Epoch 28/50\n",
      "551/551 [==============================] - 1s 1ms/step - loss: 9.5713 - accuracy: 0.0000e+00 - val_loss: 9.5192 - val_accuracy: 0.0000e+00\n",
      "Epoch 29/50\n",
      "551/551 [==============================] - 1s 1ms/step - loss: 9.5497 - accuracy: 0.0000e+00 - val_loss: 9.5192 - val_accuracy: 0.0000e+00\n",
      "Epoch 30/50\n",
      "551/551 [==============================] - 1s 1ms/step - loss: 9.5168 - accuracy: 0.0000e+00 - val_loss: 9.5192 - val_accuracy: 0.0000e+00\n",
      "Epoch 31/50\n",
      "551/551 [==============================] - 1s 1ms/step - loss: 9.5869 - accuracy: 0.0000e+00 - val_loss: 9.5192 - val_accuracy: 0.0000e+00\n",
      "Epoch 32/50\n",
      "551/551 [==============================] - 1s 1ms/step - loss: 9.5503 - accuracy: 0.0000e+00 - val_loss: 9.5192 - val_accuracy: 0.0000e+00\n",
      "Epoch 33/50\n",
      "551/551 [==============================] - 1s 2ms/step - loss: 9.5320 - accuracy: 0.0000e+00 - val_loss: 9.5192 - val_accuracy: 0.0000e+00\n",
      "Epoch 34/50\n",
      "551/551 [==============================] - 1s 1ms/step - loss: 9.4930 - accuracy: 0.0000e+00 - val_loss: 9.5192 - val_accuracy: 0.0000e+00\n",
      "Epoch 35/50\n",
      "551/551 [==============================] - 1s 1ms/step - loss: 9.5557 - accuracy: 0.0000e+00 - val_loss: 9.5192 - val_accuracy: 0.0000e+00\n",
      "Epoch 36/50\n",
      "551/551 [==============================] - 1s 1ms/step - loss: 9.5009 - accuracy: 0.0000e+00 - val_loss: 9.5192 - val_accuracy: 0.0000e+00\n",
      "Epoch 37/50\n",
      "551/551 [==============================] - 1s 1ms/step - loss: 9.4855 - accuracy: 0.0000e+00 - val_loss: 9.5192 - val_accuracy: 0.0000e+00\n",
      "Epoch 38/50\n",
      "551/551 [==============================] - 1s 1ms/step - loss: 9.5986 - accuracy: 0.0000e+00 - val_loss: 9.5192 - val_accuracy: 0.0000e+00\n",
      "Epoch 39/50\n",
      "551/551 [==============================] - 1s 2ms/step - loss: 9.5634 - accuracy: 0.0000e+00 - val_loss: 9.5192 - val_accuracy: 0.0000e+00\n",
      "Epoch 40/50\n",
      "551/551 [==============================] - 1s 1ms/step - loss: 9.4339 - accuracy: 0.0000e+00 - val_loss: 9.5192 - val_accuracy: 0.0000e+00\n",
      "Epoch 41/50\n",
      "551/551 [==============================] - 1s 1ms/step - loss: 9.5101 - accuracy: 0.0000e+00 - val_loss: 9.5192 - val_accuracy: 0.0000e+00\n",
      "Epoch 42/50\n",
      "551/551 [==============================] - 1s 1ms/step - loss: 9.4792 - accuracy: 0.0000e+00 - val_loss: 9.5192 - val_accuracy: 0.0000e+00\n",
      "Epoch 43/50\n",
      "551/551 [==============================] - 1s 1ms/step - loss: 9.5786 - accuracy: 0.0000e+00 - val_loss: 9.5192 - val_accuracy: 0.0000e+00\n",
      "Epoch 44/50\n",
      "551/551 [==============================] - 1s 2ms/step - loss: 9.5373 - accuracy: 0.0000e+00 - val_loss: 9.5192 - val_accuracy: 0.0000e+00\n",
      "Epoch 45/50\n",
      "551/551 [==============================] - 1s 1ms/step - loss: 9.5982 - accuracy: 0.0000e+00 - val_loss: 9.5192 - val_accuracy: 0.0000e+00\n",
      "Epoch 46/50\n",
      "551/551 [==============================] - 1s 2ms/step - loss: 9.5089 - accuracy: 0.0000e+00 - val_loss: 9.5192 - val_accuracy: 0.0000e+00\n",
      "Epoch 47/50\n",
      "551/551 [==============================] - 1s 1ms/step - loss: 9.5810 - accuracy: 0.0000e+00 - val_loss: 9.5192 - val_accuracy: 0.0000e+00\n",
      "Epoch 48/50\n",
      "551/551 [==============================] - 1s 1ms/step - loss: 9.5783 - accuracy: 0.0000e+00 - val_loss: 9.5192 - val_accuracy: 0.0000e+00\n",
      "Epoch 49/50\n",
      "551/551 [==============================] - 1s 1ms/step - loss: 9.5123 - accuracy: 0.0000e+00 - val_loss: 9.5192 - val_accuracy: 0.0000e+00\n",
      "Epoch 50/50\n",
      "551/551 [==============================] - 1s 1ms/step - loss: 9.4984 - accuracy: 0.0000e+00 - val_loss: 9.5192 - val_accuracy: 0.0000e+00\n",
      "Best epoch: 1\n"
     ]
    }
   ],
   "source": [
    "model = tuner.hypermodel.build(best_hps)\n",
    "history = model.fit(X_train, y_train, epochs=50, validation_split=0.2)\n",
    "\n",
    "val_acc_per_epoch = history.history['val_accuracy']\n",
    "best_epoch = val_acc_per_epoch.index(max(val_acc_per_epoch)) + 1\n",
    "print('Best epoch: %d' % (best_epoch,))"
   ]
  },
  {
   "cell_type": "code",
   "execution_count": 23,
   "id": "b4dd3f4c-36db-4bd4-8bbc-aba1d46588ad",
   "metadata": {},
   "outputs": [
    {
     "name": "stdout",
     "output_type": "stream",
     "text": [
      "551/551 [==============================] - 1s 1ms/step - loss: 6.8062 - accuracy: 0.0283 - val_loss: 6.7600 - val_accuracy: 0.3531\n"
     ]
    },
    {
     "data": {
      "text/plain": [
       "<tensorflow.python.keras.callbacks.History at 0x7fbd9c0a8040>"
      ]
     },
     "execution_count": 23,
     "metadata": {},
     "output_type": "execute_result"
    }
   ],
   "source": [
    "hypermodel = tuner.hypermodel.build(best_hps)\n",
    "\n",
    "# Retrain the model\n",
    "hypermodel.fit(X_train, y_train, epochs=best_epoch, validation_split=0.2)"
   ]
  },
  {
   "cell_type": "code",
   "execution_count": 24,
   "id": "9825158c-01c9-449b-b18d-cd7581536827",
   "metadata": {},
   "outputs": [
    {
     "ename": "NameError",
     "evalue": "name 'img_test' is not defined",
     "output_type": "error",
     "traceback": [
      "\u001b[0;31m---------------------------------------------------------------------------\u001b[0m",
      "\u001b[0;31mNameError\u001b[0m                                 Traceback (most recent call last)",
      "\u001b[0;32m/tmp/ipykernel_3988508/1031110015.py\u001b[0m in \u001b[0;36m<module>\u001b[0;34m\u001b[0m\n\u001b[0;32m----> 1\u001b[0;31m \u001b[0meval_result\u001b[0m \u001b[0;34m=\u001b[0m \u001b[0mhypermodel\u001b[0m\u001b[0;34m.\u001b[0m\u001b[0mevaluate\u001b[0m\u001b[0;34m(\u001b[0m\u001b[0mimg_test\u001b[0m\u001b[0;34m,\u001b[0m \u001b[0mlabel_test\u001b[0m\u001b[0;34m)\u001b[0m\u001b[0;34m\u001b[0m\u001b[0;34m\u001b[0m\u001b[0m\n\u001b[0m\u001b[1;32m      2\u001b[0m \u001b[0mprint\u001b[0m\u001b[0;34m(\u001b[0m\u001b[0;34m\"[test loss, test accuracy]:\"\u001b[0m\u001b[0;34m,\u001b[0m \u001b[0meval_result\u001b[0m\u001b[0;34m)\u001b[0m\u001b[0;34m\u001b[0m\u001b[0;34m\u001b[0m\u001b[0m\n",
      "\u001b[0;31mNameError\u001b[0m: name 'img_test' is not defined"
     ]
    }
   ],
   "source": [
    "eval_result = hypermodel.evaluate(img_test, label_test)\n",
    "print(\"[test loss, test accuracy]:\", eval_result)"
   ]
  },
  {
   "cell_type": "code",
   "execution_count": null,
   "id": "fc3901bf-b8ee-40b8-8675-ecfdaab75283",
   "metadata": {},
   "outputs": [],
   "source": []
  }
 ],
 "metadata": {
  "kernelspec": {
   "display_name": "Python 3 (ipykernel)",
   "language": "python",
   "name": "python3"
  },
  "language_info": {
   "codemirror_mode": {
    "name": "ipython",
    "version": 3
   },
   "file_extension": ".py",
   "mimetype": "text/x-python",
   "name": "python",
   "nbconvert_exporter": "python",
   "pygments_lexer": "ipython3",
   "version": "3.9.7"
  }
 },
 "nbformat": 4,
 "nbformat_minor": 5
}
